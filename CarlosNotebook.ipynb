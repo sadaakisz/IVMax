{
 "metadata": {
  "language_info": {
   "codemirror_mode": {
    "name": "ipython",
    "version": 3
   },
   "file_extension": ".py",
   "mimetype": "text/x-python",
   "name": "python",
   "nbconvert_exporter": "python",
   "pygments_lexer": "ipython3",
   "version": 3
  },
  "orig_nbformat": 2,
  "kernelspec": {
   "name": "pycharm-d3a8d1db",
   "language": "python",
   "display_name": "PyCharm (IVMax)"
  }
 },
 "nbformat": 4,
 "nbformat_minor": 2,
 "cells": [
  {
   "cell_type": "code",
   "execution_count": null,
   "metadata": {},
   "outputs": [],
   "source": [
    "import numpy as np\n",
    "import random"
   ]
  },
  {
   "cell_type": "code",
   "execution_count": 1,
   "outputs": [],
   "source": [
    "def Selection(N):\n",
    "    Pair = Pairs(N)\n",
    "    print('Pair',Pair)\n",
    "    for k,v in Pair.items():\n",
    "        if Fitness(Subjects[k]) >= Fitness(Subjects[v]):\n",
    "            Subjects[v] = Subjects[k]\n",
    "    Show(N)\n"
   ],
   "metadata": {
    "collapsed": false,
    "pycharm": {
     "name": "#%%\n"
    }
   }
  },
  {
   "cell_type": "code",
   "execution_count": null,
   "outputs": [],
   "source": [
    "def Fitness(iv_group):\n",
    "    average_ivs=0\n",
    "    for i, _ in enumerate(iv_group):\n",
    "        average_ivs+=iv_group[i]\n",
    "    return average_ivs\n"
   ],
   "metadata": {
    "collapsed": false,
    "pycharm": {
     "name": "#%%\n"
    }
   }
  }
 ]
}