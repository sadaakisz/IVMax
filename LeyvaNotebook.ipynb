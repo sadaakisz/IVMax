{
 "metadata": {
  "language_info": {
   "codemirror_mode": {
    "name": "ipython",
    "version": 3
   },
   "file_extension": ".py",
   "mimetype": "text/x-python",
   "name": "python",
   "nbconvert_exporter": "python",
   "pygments_lexer": "ipython3",
   "version": "3.9.2-final"
  },
  "orig_nbformat": 2,
  "kernelspec": {
   "name": "python392jvsc74a57bd08e069e73862b8ed95bc09511fd79612fca7d65d8de60fb6ebba1601fcb49342c",
   "display_name": "Python 3.9.2 64-bit"
  },
  "metadata": {
   "interpreter": {
    "hash": "8e069e73862b8ed95bc09511fd79612fca7d65d8de60fb6ebba1601fcb49342c"
   }
  }
 },
 "nbformat": 4,
 "nbformat_minor": 2,
 "cells": [
  {
   "cell_type": "code",
   "execution_count": 20,
   "metadata": {},
   "outputs": [],
   "source": [
    "import numpy as np\n",
    "import random"
   ]
  },
  {
   "cell_type": "code",
   "execution_count": 21,
   "metadata": {},
   "outputs": [],
   "source": [
    "def Inicialization(N):\n",
    "    global Subjects\n",
    "    global Best\n",
    "    Subjects = {}\n",
    "    for i in range(N):\n",
    "        Subjects[i] = np.random.choice(32,6,replace=True)\n",
    "    print('---Inicializaction----')\n",
    "    Show(N)"
   ]
  },
  {
   "cell_type": "code",
   "execution_count": 22,
   "metadata": {},
   "outputs": [],
   "source": [
    "def Show(N):\n",
    "    for i in range(N):\n",
    "        print(Subjects[i])"
   ]
  },
  {
   "cell_type": "code",
   "execution_count": 36,
   "metadata": {},
   "outputs": [
    {
     "output_type": "stream",
     "name": "stdout",
     "text": [
      "---Inicializaction----\n[ 7 29 22 29 31  5]\n"
     ]
    }
   ],
   "source": [
    "Inicialization(1)"
   ]
  },
  {
   "cell_type": "code",
   "execution_count": 38,
   "metadata": {},
   "outputs": [],
   "source": [
    "def Mutation(N):\n",
    "    print('-----Mutation ----')\n",
    "    for i in range(int(N/2)):\n",
    "        ElegirI = random.randint(0,N-1)\n",
    "        #print(ElegirI)\n",
    "        ElegirPos = random.randint(0,5)\n",
    "        #print(ElegirPos)\n",
    "        ElegirGen = random.randint(0, 1)\n",
    "        #print(ElegirGen)\n",
    "        Individuos[ElegirI][ElegirPos] = ElegirGen\n",
    "        print('Se mutó el individuo {}, en la posición {} con el valor {}'.format(ElegirI, ElegirPos, ElegirGen))\n",
    "        #print(\"****\")\n",
    "    Show(N)"
   ]
  },
  {
   "cell_type": "code",
   "execution_count": 39,
   "metadata": {},
   "outputs": [
    {
     "output_type": "stream",
     "name": "stdout",
     "text": [
      "---Inicializaction----\n[12 12 21 22 21 29]\n"
     ]
    }
   ],
   "source": [
    "Inicialization(1)"
   ]
  },
  {
   "cell_type": "code",
   "execution_count": null,
   "metadata": {},
   "outputs": [],
   "source": []
  }
 ]
}