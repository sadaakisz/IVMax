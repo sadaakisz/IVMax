{
 "metadata": {
  "language_info": {
   "codemirror_mode": {
    "name": "ipython",
    "version": 3
   },
   "file_extension": ".py",
   "mimetype": "text/x-python",
   "name": "python",
   "nbconvert_exporter": "python",
   "pygments_lexer": "ipython3",
   "version": 3
  },
  "orig_nbformat": 2,
  "kernelspec": {
   "name": "pycharm-d3a8d1db",
   "language": "python",
   "display_name": "PyCharm (IVMax)"
  }
 },
 "nbformat": 4,
 "nbformat_minor": 2,
 "cells": [
  {
   "cell_type": "code",
   "execution_count": null,
   "metadata": {},
   "outputs": [],
   "source": [
    "import numpy as np\n",
    "import random"
   ]
  },
  {
   "cell_type": "code",
   "execution_count": 1,
   "outputs": [],
   "source": [
    "#Compara la idoneidad de 2 individuos, escogiendo al de mayor idoneidad\n",
    "def Selection(N):\n",
    "    Pair = Pairs(N)\n",
    "    print('Pair',Pair)\n",
    "    for k,v in Pair.items():\n",
    "        if Fitness(Subjects[k]) >= Fitness(Subjects[v]):\n",
    "            Subjects[v] = Subjects[k]\n",
    "    Show(N)"
   ],
   "metadata": {
    "collapsed": false,
    "pycharm": {
     "name": "#%%\n"
    }
   }
  },
  {
   "cell_type": "code",
   "execution_count": 6,
   "outputs": [
    {
     "name": "stdout",
     "output_type": "stream",
     "text": [
      "133\n"
     ]
    }
   ],
   "source": [
    "#Calcula idoneidad según la suma de los IVs de un individuo\n",
    "def Fitness(iv_group):\n",
    "    iv_sum=0\n",
    "    for i, _ in enumerate(iv_group):\n",
    "        iv_sum+=iv_group[i]\n",
    "    return iv_sum\n",
    "\n",
    "print(Fitness([23, 20, 24, 14, 29, 23]))"
   ],
   "metadata": {
    "collapsed": false,
    "pycharm": {
     "name": "#%%\n"
    }
   }
  },
  {
   "cell_type": "code",
   "execution_count": null,
   "outputs": [],
   "source": [
    "#Cruza a 2 individuos, asignando el punto de corte de los IVs y generando\n",
    "#2 hijos\n",
    "def Breed(N):\n",
    "    Pair = Pairs(N)\n",
    "    print('Pair:', Pair)\n",
    "    item = 0\n",
    "    for k,v in Pair.items():\n",
    "        if item % 2 == 0:\n",
    "            cut_point = random.randint(1,4) #pto de corte de 1-4 porque se tienen 6 IVs\n",
    "            print('cut point',cut_point)\n",
    "            Child1 = []\n",
    "            Child2 = []\n",
    "            Parent1 = Subjects[k]\n",
    "            Parent2 = Subjects[v]\n",
    "            Child1.extend(Child1[0:cut_point])\n",
    "            Child1.extend(Child2[cut_point:])\n",
    "            Child2.extend(Child2[0:cut_point])\n",
    "            Child2.extend(Child1[cut_point:])\n",
    "            Subjects[k] = Child1\n",
    "            Subjects[v] = Child2\n",
    "        item = item+1\n",
    "    Show(N)\n"
   ],
   "metadata": {
    "collapsed": false,
    "pycharm": {
     "name": "#%%\n"
    }
   }
  }
 ]
}