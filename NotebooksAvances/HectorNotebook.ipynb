{
 "metadata": {
  "language_info": {
   "codemirror_mode": {
    "name": "ipython",
    "version": 3
   },
   "file_extension": ".py",
   "mimetype": "text/x-python",
   "name": "python",
   "nbconvert_exporter": "python",
   "pygments_lexer": "ipython3",
   "version": "3.8.5-final"
  },
  "orig_nbformat": 2,
  "kernelspec": {
   "name": "python385jvsc74a57bd0f6365616d5b7367d0cbc49053efd63f6ab09e9c65f9bc7c9cc4e541e4413ede1",
   "display_name": "Python 3.8.5 64-bit (conda)"
  }
 },
 "nbformat": 4,
 "nbformat_minor": 2,
 "cells": [
  {
   "cell_type": "code",
   "execution_count": 1,
   "metadata": {},
   "outputs": [],
   "source": [
    "import numpy as np\n",
    "import random"
   ]
  },
  {
   "cell_type": "code",
   "execution_count": 16,
   "metadata": {},
   "outputs": [],
   "source": [
    "def Pair(N):\n",
    "    # Retorna una lista en orden aleatoria de la segunda mitad de los individuos\n",
    "    # ej: N=8 -> [7, 6, 5, 4]\n",
    "    randomN=random.sample(range(int(N/2), N), int(N/2))\n",
    "    pair={}\n",
    "    # Puebla el diccionario con los pares\n",
    "    # ej: {0: 7, 7: 0, 1: 6, 6: 1...}\n",
    "    for i in range(int(N/2)):\n",
    "        pair[i]=randomN[i]\n",
    "        pair[randomN[i]]=i\n",
    "    return pair"
   ]
  },
  {
   "cell_type": "code",
   "execution_count": 20,
   "metadata": {},
   "outputs": [
    {
     "output_type": "stream",
     "name": "stdout",
     "text": [
      "[7, 6, 5, 4]\n{0: 7, 7: 0, 1: 6, 6: 1, 2: 5, 5: 2, 3: 4, 4: 3}\n"
     ]
    }
   ],
   "source": [
    "print(Pair(8))"
   ]
  },
  {
   "cell_type": "code",
   "execution_count": null,
   "metadata": {},
   "outputs": [],
   "source": []
  }
 ]
}